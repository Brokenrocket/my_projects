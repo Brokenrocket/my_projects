{
 "cells": [
  {
   "cell_type": "markdown",
   "id": "15157e4f",
   "metadata": {},
   "source": [
    "# Решения задач"
   ]
  },
  {
   "cell_type": "markdown",
   "id": "c8e3c655",
   "metadata": {},
   "source": [
    "## Из книги \"Python. Сборник упражнений\" "
   ]
  },
  {
   "cell_type": "markdown",
   "id": "7f64a410",
   "metadata": {},
   "source": [
    "### Упражнение 1. Почтовый адрес\n"
   ]
  },
  {
   "cell_type": "code",
   "execution_count": 1,
   "id": "e1bcdf79",
   "metadata": {},
   "outputs": [
    {
     "name": "stdout",
     "output_type": "stream",
     "text": [
      "Егор Матвеев\n",
      "142108\n",
      "Московская область\n",
      "г. Подольск\n",
      "ул. Курчатова\n",
      "д. 61а кв. 35\n"
     ]
    }
   ],
   "source": [
    "print(\"Егор Матвеев\")\n",
    "print(\"142108\")\n",
    "print(\"Московская область\")\n",
    "print(\"г. Подольск\")\n",
    "print(\"ул. Курчатова\")\n",
    "print(\"д. 61а кв. 35\")"
   ]
  },
  {
   "cell_type": "markdown",
   "id": "6b7233e8",
   "metadata": {},
   "source": [
    "### Упражнение 2. Приветствие"
   ]
  },
  {
   "cell_type": "code",
   "execution_count": 3,
   "id": "abfe5327",
   "metadata": {},
   "outputs": [
    {
     "name": "stdout",
     "output_type": "stream",
     "text": [
      "Введите ваше имя: Егор\n",
      "Привет, Егор\n"
     ]
    }
   ],
   "source": [
    "name = input(\"Введите ваше имя: \")\n",
    "print(\"Привет,\", name)"
   ]
  },
  {
   "cell_type": "markdown",
   "id": "9e9d96d6",
   "metadata": {},
   "source": [
    "### Упражнение 3. Площадь комнаты"
   ]
  },
  {
   "cell_type": "code",
   "execution_count": 4,
   "id": "e23ea7b5",
   "metadata": {},
   "outputs": [
    {
     "name": "stdout",
     "output_type": "stream",
     "text": [
      "Введите длинну вашей комнаты: 2\n",
      "Введите шерину вашей комнаты: 10\n",
      "Площадь вашейкомнаты:  20.0 кв.метров.\n"
     ]
    }
   ],
   "source": [
    "a = float(input(\"Введите длинну вашей комнаты: \"))\n",
    "b = float(input(\"Введите шерину вашей комнаты: \"))\n",
    "s = a * b\n",
    "print(\"Площадь вашей комнаты:\", s, \"кв.метров.\")"
   ]
  },
  {
   "cell_type": "markdown",
   "id": "6eaa4163",
   "metadata": {},
   "source": [
    "### Упражнение 49. Китайский гороскоп"
   ]
  },
  {
   "cell_type": "code",
   "execution_count": 4,
   "id": "4efb3349",
   "metadata": {},
   "outputs": [
    {
     "name": "stdout",
     "output_type": "stream",
     "text": [
      "Введите год: 2024\n",
      "Год Дракона.\n"
     ]
    }
   ],
   "source": [
    "year = int(input(\"Введите год: \"))\n",
    "num = year % 12\n",
    "\n",
    "# Здесь, вместо if, я использовал конструкцию match-case.\n",
    "match num:\n",
    "    case 8:\n",
    "        print(\"Год Дракона.\")\n",
    "    case 9:\n",
    "        print(\"Год Змеи.\")\n",
    "    case 10:\n",
    "        print(\"Год Лошади.\")\n",
    "    case 11:\n",
    "        print(\"Год Козы.\")\n",
    "    case 0:\n",
    "        print(\"Год Обезьяны.\")\n",
    "    case 1:\n",
    "        print(\"Год Петуха.\")\n",
    "    case 2:\n",
    "        print(\"Год Собаки.\")\n",
    "    case 3:\n",
    "        print(\"Год Свиньи.\")\n",
    "    case 4:\n",
    "        print(\"Год Крысы.\")\n",
    "    case 5:\n",
    "        print(\"Год Быка.\")\n",
    "    case 6:\n",
    "        print(\"Год Тигра.\")\n",
    "    case 7:\n",
    "        print(\"Год Кролика.\")\n"
   ]
  },
  {
   "cell_type": "code",
   "execution_count": 6,
   "id": "0f5c881a",
   "metadata": {},
   "outputs": [
    {
     "name": "stdout",
     "output_type": "stream",
     "text": [
      "Введите год н.э.: 2023\n",
      "Год Кролика\n"
     ]
    }
   ],
   "source": [
    "# Здесь такойже подход, только использовал кортеж. \n",
    "animal = [\"Обезьяны\", \"Петуха\", \"Собаки\", \"Свиньи\", \"Крысы\", \"Быка\", \"Тигра\", \"Кролика\", \"Дракона\", \"Змеи\", \"Лошади\", \"Козы\"]\n",
    "year = int(input(\"Введите год н.э.: \"))\n",
    "num = year % 12\n",
    "print(\"Год\", animal[num])"
   ]
  },
  {
   "cell_type": "code",
   "execution_count": null,
   "id": "fa19cc1c",
   "metadata": {},
   "outputs": [],
   "source": []
  }
 ],
 "metadata": {
  "kernelspec": {
   "display_name": "Python 3 (ipykernel)",
   "language": "python",
   "name": "python3"
  },
  "language_info": {
   "codemirror_mode": {
    "name": "ipython",
    "version": 3
   },
   "file_extension": ".py",
   "mimetype": "text/x-python",
   "name": "python",
   "nbconvert_exporter": "python",
   "pygments_lexer": "ipython3",
   "version": "3.11.2"
  }
 },
 "nbformat": 4,
 "nbformat_minor": 5
}
