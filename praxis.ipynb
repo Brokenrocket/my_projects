{
 "cells": [
  {
   "cell_type": "markdown",
   "id": "15157e4f",
   "metadata": {},
   "source": [
    "# Решения задач"
   ]
  },
  {
   "cell_type": "markdown",
   "id": "c8e3c655",
   "metadata": {},
   "source": [
    "## Из книги \"Python. Сборник упражнений\" "
   ]
  },
  {
   "cell_type": "markdown",
   "id": "7f64a410",
   "metadata": {},
   "source": [
    "### Упражнение 1. Почтовый адрес\n"
   ]
  },
  {
   "cell_type": "code",
   "execution_count": 1,
   "id": "e1bcdf79",
   "metadata": {},
   "outputs": [
    {
     "name": "stdout",
     "output_type": "stream",
     "text": [
      "Егор Матвеев\n",
      "142108\n",
      "Московская область\n",
      "г. Подольск\n",
      "ул. Курчатова\n",
      "д. 61а кв. 35\n"
     ]
    }
   ],
   "source": [
    "print(\"Егор Матвеев\")\n",
    "print(\"142108\")\n",
    "print(\"Московская область\")\n",
    "print(\"г. Подольск\")\n",
    "print(\"ул. Курчатова\")\n",
    "print(\"д. 61а кв. 35\")"
   ]
  },
  {
   "cell_type": "markdown",
   "id": "6b7233e8",
   "metadata": {},
   "source": [
    "### Упражнение 2. Приветствие"
   ]
  },
  {
   "cell_type": "code",
   "execution_count": 3,
   "id": "abfe5327",
   "metadata": {},
   "outputs": [
    {
     "name": "stdout",
     "output_type": "stream",
     "text": [
      "Введите ваше имя: Егор\n",
      "Привет, Егор\n"
     ]
    }
   ],
   "source": [
    "name = input(\"Введите ваше имя: \")\n",
    "print(\"Привет,\", name)"
   ]
  },
  {
   "cell_type": "markdown",
   "id": "9e9d96d6",
   "metadata": {},
   "source": [
    "### Упражнение 3. Площадь комнаты"
   ]
  },
  {
   "cell_type": "code",
   "execution_count": 4,
   "id": "e23ea7b5",
   "metadata": {},
   "outputs": [
    {
     "name": "stdout",
     "output_type": "stream",
     "text": [
      "Введите длинну вашей комнаты: 2\n",
      "Введите шерину вашей комнаты: 10\n",
      "Площадь вашейкомнаты:  20.0 кв.метров.\n"
     ]
    }
   ],
   "source": [
    "a = float(input(\"Введите длинну вашей комнаты: \"))\n",
    "b = float(input(\"Введите шерину вашей комнаты: \"))\n",
    "s = a * b\n",
    "print(\"Площадь вашей комнаты:\", s, \"кв.метров.\")"
   ]
  },
  {
   "cell_type": "markdown",
   "id": "f2324b45",
   "metadata": {},
   "source": [
    "### Упражнение 49. Китайский гороскоп"
   ]
  },
  {
   "cell_type": "code",
   "execution_count": 4,
   "id": "e5ba64ac",
   "metadata": {},
   "outputs": [
    {
     "name": "stdout",
     "output_type": "stream",
     "text": [
      "Введите год: 2024\n",
      "Год Дракона.\n"
     ]
    }
   ],
   "source": [
    "year = int(input(\"Введите год: \"))\n",
    "num = year % 12\n",
    "\n",
    "# Здесь, вместо if, я использовал конструкцию match-case.\n",
    "match num:\n",
    "    case 8:\n",
    "        print(\"Год Дракона.\")\n",
    "    case 9:\n",
    "        print(\"Год Змеи.\")\n",
    "    case 10:\n",
    "        print(\"Год Лошади.\")\n",
    "    case 11:\n",
    "        print(\"Год Козы.\")\n",
    "    case 0:\n",
    "        print(\"Год Обезьяны.\")\n",
    "    case 1:\n",
    "        print(\"Год Петуха.\")\n",
    "    case 2:\n",
    "        print(\"Год Собаки.\")\n",
    "    case 3:\n",
    "        print(\"Год Свиньи.\")\n",
    "    case 4:\n",
    "        print(\"Год Крысы.\")\n",
    "    case 5:\n",
    "        print(\"Год Быка.\")\n",
    "    case 6:\n",
    "        print(\"Год Тигра.\")\n",
    "    case 7:\n",
    "        print(\"Год Кролика.\")\n"
   ]
  },
  {
   "cell_type": "code",
   "execution_count": 6,
   "id": "68aa000e",
   "metadata": {},
   "outputs": [
    {
     "name": "stdout",
     "output_type": "stream",
     "text": [
      "Введите год н.э.: 2023\n",
      "Год Кролика\n"
     ]
    }
   ],
   "source": [
    "# Здесь такойже подход, только использовал кортеж. \n",
    "animal = [\"Обезьяны\", \"Петуха\", \"Собаки\", \"Свиньи\", \"Крысы\", \"Быка\", \"Тигра\", \"Кролика\", \"Дракона\", \"Змеи\", \"Лошади\", \"Козы\"]\n",
    "year = int(input(\"Введите год н.э.: \"))\n",
    "num = year % 12\n",
    "print(\"Год\", animal[num])"
   ]
  },
  {
   "cell_type": "markdown",
   "id": "1e79a573",
   "metadata": {},
   "source": [
    "## Из курса Skillfactory Веб-разработчик на Python."
   ]
  },
  {
   "cell_type": "markdown",
   "id": "c6f2bcfc",
   "metadata": {},
   "source": [
    "### Задание 3.4.3"
   ]
  },
  {
   "cell_type": "markdown",
   "id": "27993b1f",
   "metadata": {},
   "source": [
    "Условие задачи:\n",
    "\n",
    "Написать программу, которая в зависимости от характера ветра выдает сообщение о его скорости:\n",
    "- от 1 до 4 м/с — слабый (1);\n",
    "- от 5-10 м/c — умеренный (2);\n",
    "- от 11-18 м/c — сильный (3);\n",
    "- больше 19 м/c — ураганный (4)."
   ]
  },
  {
   "cell_type": "code",
   "execution_count": 4,
   "id": "5036eb8f",
   "metadata": {},
   "outputs": [
    {
     "name": "stdout",
     "output_type": "stream",
     "text": [
      "Ведите скорость ветра в м/c: 15\n",
      "Сильный ветер.\n"
     ]
    }
   ],
   "source": [
    "wind_speed = int(input(\"Ведите скорость ветра в м/c: \"))\n",
    "if wind_speed in range(1, 5):\n",
    "    print(\"Слабый ветер.\")\n",
    "elif wind_speed in range(5, 11):\n",
    "    print(\"Умеренный ветер.\")\n",
    "elif wind_speed in range(11, 19):\n",
    "    print(\"Сильный ветер.\")\n",
    "elif wind_speed > 19:\n",
    "    print(\"Ураганный ветер!\")\n"
   ]
  },
  {
   "cell_type": "markdown",
   "id": "ce300df2",
   "metadata": {},
   "source": [
    "И тут я понял, что условие задачи другое. Правда непонятно из условия должен ли пользователь что-вводить?🤔\n",
    "\n",
    "Ну ладно, попробуем:"
   ]
  },
  {
   "cell_type": "code",
   "execution_count": 7,
   "id": "71c6f263",
   "metadata": {},
   "outputs": [
    {
     "name": "stdout",
     "output_type": "stream",
     "text": [
      "Введите цифру соответствующую характеру ветра\n",
      "\n",
      "[1] Слабый ветер.\n",
      "[2] Умеренный ветер.\n",
      "[3] Сильный ветер.\n",
      "[4] Ураганный ветер.\n",
      "\n",
      "Введите цифру: 4\n",
      "Скорость ветра больше 19 м/с.\n"
     ]
    }
   ],
   "source": [
    "print(\"Введите цифру соответствующую характеру ветра\")\n",
    "print()\n",
    "print(\"[1] Слабый ветер.\")\n",
    "print(\"[2] Умеренный ветер.\")\n",
    "print(\"[3] Сильный ветер.\")\n",
    "print(\"[4] Ураганный ветер.\")\n",
    "print()\n",
    "answer = input(\"Введите цифру: \")\n",
    "# Использую конструкцию match-case вместо if, так удобнее.\n",
    "match answer:\n",
    "    case \"1\":\n",
    "        print(\"Скорость ветра от 1 до 4 м/с.\")\n",
    "    case \"2\":\n",
    "        print(\"Скорость ветра от 5 до 10 м/с.\")\n",
    "    case \"3\":\n",
    "        print(\"Скорость ветра от 11 до 18 м/с.\")\n",
    "    case \"4\":\n",
    "        print(\"Скорость ветра больше 19 м/с.\")\n",
    "    case _:\n",
    "        print(\"Неккоректный ввод!\")\n",
    "\n",
    "    \n",
    "        "
   ]
  },
  {
   "cell_type": "code",
   "execution_count": null,
   "id": "94df554d",
   "metadata": {},
   "outputs": [],
   "source": []
  }
 ],
 "metadata": {
  "kernelspec": {
   "display_name": "Python 3 (ipykernel)",
   "language": "python",
   "name": "python3"
  },
  "language_info": {
   "codemirror_mode": {
    "name": "ipython",
    "version": 3
   },
   "file_extension": ".py",
   "mimetype": "text/x-python",
   "name": "python",
   "nbconvert_exporter": "python",
   "pygments_lexer": "ipython3",
   "version": "3.11.2"
  }
 },
 "nbformat": 4,
 "nbformat_minor": 5
}
