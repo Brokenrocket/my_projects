{
 "cells": [
  {
   "cell_type": "markdown",
   "id": "15157e4f",
   "metadata": {},
   "source": [
    "# Решения задач"
   ]
  },
  {
   "cell_type": "markdown",
   "id": "703ee5b3",
   "metadata": {},
   "source": [
    "Тут я решаю небольшие упражнения и задачки из разных источников, которые не требуют написания больших скриптов и использования сложных библиотек.По возможности буду дописывать и условия задач, но это не точно😁"
   ]
  },
  {
   "cell_type": "markdown",
   "id": "c8e3c655",
   "metadata": {},
   "source": [
    "## Из книги \"Python. Сборник упражнений\" "
   ]
  },
  {
   "cell_type": "markdown",
   "id": "7f64a410",
   "metadata": {},
   "source": [
    "### Упражнение 1. Почтовый адрес\n"
   ]
  },
  {
   "cell_type": "code",
   "execution_count": 1,
   "id": "e1bcdf79",
   "metadata": {},
   "outputs": [
    {
     "name": "stdout",
     "output_type": "stream",
     "text": [
      "Егор Матвеев\n",
      "142108\n",
      "Московская область\n",
      "г. Подольск\n",
      "ул. Курчатова\n",
      "д. 61а кв. 35\n"
     ]
    }
   ],
   "source": [
    "print(\"Егор Матвеев\")\n",
    "print(\"142108\")\n",
    "print(\"Московская область\")\n",
    "print(\"г. Подольск\")\n",
    "print(\"ул. Курчатова\")\n",
    "print(\"д. 61а кв. 35\")"
   ]
  },
  {
   "cell_type": "markdown",
   "id": "6b7233e8",
   "metadata": {},
   "source": [
    "### Упражнение 2. Приветствие"
   ]
  },
  {
   "cell_type": "code",
   "execution_count": 3,
   "id": "abfe5327",
   "metadata": {},
   "outputs": [
    {
     "name": "stdout",
     "output_type": "stream",
     "text": [
      "Введите ваше имя: Егор\n",
      "Привет, Егор\n"
     ]
    }
   ],
   "source": [
    "name = input(\"Введите ваше имя: \")\n",
    "print(\"Привет,\", name)"
   ]
  },
  {
   "cell_type": "markdown",
   "id": "9e9d96d6",
   "metadata": {},
   "source": [
    "### Упражнение 3. Площадь комнаты"
   ]
  },
  {
   "cell_type": "code",
   "execution_count": 4,
   "id": "e23ea7b5",
   "metadata": {},
   "outputs": [
    {
     "name": "stdout",
     "output_type": "stream",
     "text": [
      "Введите длинну вашей комнаты: 2\n",
      "Введите шерину вашей комнаты: 10\n",
      "Площадь вашейкомнаты:  20.0 кв.метров.\n"
     ]
    }
   ],
   "source": [
    "a = float(input(\"Введите длинну вашей комнаты: \"))\n",
    "b = float(input(\"Введите ширину вашей комнаты: \"))\n",
    "s = a * b\n",
    "print(\"Площадь вашей комнаты:\", s, \"кв.метров.\")"
   ]
  },
  {
   "cell_type": "code",
   "execution_count": 1,
   "id": "3c789693",
   "metadata": {},
   "outputs": [
    {
     "name": "stdout",
     "output_type": "stream",
     "text": [
      "Ведиде ширину вашей комнаты: 6\n",
      "Введите длинну вашей комнаты: 10\n",
      "Площадь вашей комнаты: 60.0\n"
     ]
    }
   ],
   "source": [
    "class Room: # Тут решил немного заморочиться с ООП. Позже подумаю как сделать код лучше\n",
    "    \n",
    "    def __init__(self, width, height):\n",
    "        self.width = width\n",
    "        self.height = height\n",
    "        \n",
    "        \n",
    "    def getArea(self):\n",
    "        return self.width * self.height\n",
    "\n",
    "a = float(input(\"Ведиде ширину вашей комнаты: \"))\n",
    "b = float(input(\"Введите длинну вашей комнаты: \"))\n",
    "r = Room(a, b)\n",
    "print(f\"Площадь вашей комнаты: {r.getArea()}\")"
   ]
  },
  {
   "cell_type": "markdown",
   "id": "d279181a",
   "metadata": {},
   "source": [
    "### Упражнение 4. Площадь садового участка"
   ]
  },
  {
   "cell_type": "markdown",
   "id": "06582911",
   "metadata": {},
   "source": [
    "Создайте программу, запрашивающую у пользователя длинну и ширину садового участка в футах. Выведите на экран площадь участка в акрах.\n",
    "> **подсказка.** В одном акре содержится 43560 квадратных футов."
   ]
  },
  {
   "cell_type": "code",
   "execution_count": 2,
   "id": "c58dc9b5",
   "metadata": {},
   "outputs": [
    {
     "name": "stdout",
     "output_type": "stream",
     "text": [
      "Введите длинну садового участка в футах. 500\n",
      "Введите ширину садового участка в футах. 100\n",
      "Площадь садового участка 1.147842056932966 акров.\n"
     ]
    }
   ],
   "source": [
    "length = float(input(\"Введите длинну садового участка в футах. \"))\n",
    "width = float(input(\"Введите ширину садового участка в футах. \"))\n",
    "s = (length * width) / 43560\n",
    "print(f\"Площадь садового участка {s} акров.\")"
   ]
  },
  {
   "cell_type": "markdown",
   "id": "b0c7276b",
   "metadata": {},
   "source": [
    "### Упражнение 5. Сдаем бутылки"
   ]
  },
  {
   "cell_type": "markdown",
   "id": "ef161abd",
   "metadata": {},
   "source": [
    "Во многих странах в стоимость стеклотары закладывается опрределенный депозит, чтобы стимулировать покупателей напитков сдавать пустые бутылки. Допустим, бутылки объемом 1 литр и меньше стоят `$0.10, а бутылки большего объема - $0.25`.\n",
    "Напишите программу, запрашивающую у пользователя количество бутылок каждого размера. На экране должна отобразиться сумма, которую можно выручить, если сдать всю имеющуюся посуду. Отформатируйте вывод так,чтобы сумма включала два знака после запятой и дополнялась слева символом доллара."
   ]
  },
  {
   "cell_type": "code",
   "execution_count": 1,
   "id": "cbe8184d",
   "metadata": {},
   "outputs": [
    {
     "name": "stdout",
     "output_type": "stream",
     "text": [
      "Введите количество бутылок меньше и равного 1 литру: 5\n",
      "Введите количество бутылок объемом больше 1 литра: 3\n",
      "Можно выручить $1.25, если сдать все бутылки\n"
     ]
    }
   ],
   "source": [
    "tax_less_litter = 0.10\n",
    "tax_more_litter = 0.25\n",
    "count_less_botle = int(input(\"Введите количество бутылок меньше и равного 1 литру: \"))\n",
    "count_more_botle = int(input(\"Введите количество бутылок объемом больше 1 литра: \"))\n",
    "total = tax_less_litter * count_less_botle + tax_more_litter * count_more_botle\n",
    "print(\"Можно выручить $%.2f, если сдать все бутылки\" % total)"
   ]
  },
  {
   "cell_type": "markdown",
   "id": "72c01175",
   "metadata": {},
   "source": [
    "### Упражнение 6. Налоги и чаевые"
   ]
  },
  {
   "cell_type": "markdown",
   "id": "6971ca1b",
   "metadata": {},
   "source": [
    "Программа должна начинаться с запроса у пользователя суммы заказа в ресторане. После этого должен быть произведен расчет налогов и чаевых орфицианту. В качестве чаевых мы оставим 18% от стоимости заказа без учета налогов. На выходе программа должна отобразить отдельно налог, сумму чаевых и итог включая обе состовляющие. Форматируем вывод таким образом, чтобы все числа отображались с двумя знаками после запятой. "
   ]
  },
  {
   "cell_type": "code",
   "execution_count": 3,
   "id": "cc2a1a46",
   "metadata": {},
   "outputs": [
    {
     "name": "stdout",
     "output_type": "stream",
     "text": [
      "Введите сумму счета: 423.56\n",
      "Чаевые: $76.24\n",
      "Налог: $55.06\n",
      "---\n",
      "Итого: $554.86\n",
      "---\n"
     ]
    }
   ],
   "source": [
    "count = float(input(\"Введите сумму счета: \"))\n",
    "tips_rate = 0.18 # Ставка чаевых\n",
    "tax_rate = 0.13 # Возьмем ставку налога в 13%\n",
    "tips = count * tips_rate\n",
    "tax = count * tax_rate\n",
    "total = count + tips + tax\n",
    "print(\"Чаевые: $%.2f\" % tips)\n",
    "print(\"Налог: $%.2f\" % tax)\n",
    "print(\"---\")\n",
    "print(\"Итого: $%.2f\" % total)\n",
    "print(\"---\")"
   ]
  },
  {
   "cell_type": "markdown",
   "id": "06420ad3",
   "metadata": {},
   "source": [
    "### Упражнение 7. Сумма первых n положттельных чисел"
   ]
  },
  {
   "cell_type": "markdown",
   "id": "33288e6e",
   "metadata": {},
   "source": [
    "Напишите программу, запрашивающую у пользователя число и подщитывающую сумму натуральных положительных чисел от 1 до введенного пользователем значения. Сумма первых n положительных чисел может быть расчитана по формуле:"
   ]
  },
  {
   "cell_type": "markdown",
   "id": "6c9f2c0e",
   "metadata": {},
   "source": [
    "$sum=\\frac{(n)(n+1)}{2}$"
   ]
  },
  {
   "cell_type": "code",
   "execution_count": 1,
   "id": "2c5ceefb",
   "metadata": {},
   "outputs": [
    {
     "name": "stdout",
     "output_type": "stream",
     "text": [
      "Программа подсчитает сумму положительных чисел от 1 до введенного вами  числа.\n",
      "------\n",
      "Введите любое натуральное число: 100\n",
      "Сумма чисел от 1 до 100 равна 5050\n"
     ]
    }
   ],
   "source": [
    "print(\"Программа подсчитает сумму положительных чисел от 1 до введенного вами  числа.\")\n",
    "print(\"------\")\n",
    "n = int(input(\"Введите любое натуральное число: \"))\n",
    "sum = n * (n + 1) / 2\n",
    "print(f\"Сумма чисел от 1 до {n} равна {int(sum)}\")"
   ]
  },
  {
   "cell_type": "markdown",
   "id": "025d512b",
   "metadata": {},
   "source": [
    "### Упражнение 8. Сувениры и безделушки"
   ]
  },
  {
   "cell_type": "code",
   "execution_count": 2,
   "id": "4faeb5ef",
   "metadata": {},
   "outputs": [
    {
     "name": "stdout",
     "output_type": "stream",
     "text": [
      "Введите количество сувениров: 5\n",
      "Введите количество безделушек: 6\n",
      "-------\n",
      "Общий вес вашей посылки 1047 гр.\n"
     ]
    }
   ],
   "source": [
    "souvenir = 75\n",
    "stuff = 112\n",
    "weight_souvenir = int(input(\"Введите количество сувениров: \"))\n",
    "weight_stuff = int(input(\"Введите количество безделушек: \"))\n",
    "total_weight = souvenir * weight_souvenir + stuff * weight_stuff\n",
    "print(\"-------\")\n",
    "print(f\"Общий вес вашей посылки {total_weight} гр.\")\n"
   ]
  },
  {
   "cell_type": "markdown",
   "id": "0fb3d4bd",
   "metadata": {},
   "source": [
    "### Упражнение 9. Сложные проценты"
   ]
  },
  {
   "cell_type": "code",
   "execution_count": 4,
   "id": "b43ef8ec",
   "metadata": {},
   "outputs": [
    {
     "name": "stdout",
     "output_type": "stream",
     "text": [
      "Введите сумму вклада: 7623.85\n",
      "------\n",
      "Сумма вклада в конце первого года: $7928.80\n",
      "Сумма вклада в конце второго года: $8245.96\n",
      "Сумма вклада в конце третьего года: $8575.79\n"
     ]
    }
   ],
   "source": [
    "rate = 0.04\n",
    "count = float(input(\"Введите сумму вклада: \"))\n",
    "year_one = count + count * rate\n",
    "year_two = year_one + year_one * rate\n",
    "year_three = year_two + year_two * rate\n",
    "print(\"------\")\n",
    "print(f\"Сумма вклада в конце первого года: ${year_one:.2f}\")\n",
    "print(f\"Сумма вклада в конце второго года: ${year_two:.2f}\")\n",
    "print(f\"Сумма вклада в конце третьего года: ${year_three:.2f}\")\n"
   ]
  },
  {
   "cell_type": "markdown",
   "id": "70cc9b92",
   "metadata": {},
   "source": [
    "### Упражнение 10. Арифметика"
   ]
  },
  {
   "cell_type": "code",
   "execution_count": 8,
   "id": "b74eb344",
   "metadata": {},
   "outputs": [
    {
     "name": "stdout",
     "output_type": "stream",
     "text": [
      "Введите первое число: 7\n",
      "Введите второго числа: 3\n",
      "Сумма чисел 7 и 3 равна: 10\n",
      "Разница чисел 7 и 3 равна: 4\n",
      "Произведение чисел 7 и 3 равно: 21\n",
      "Частное от деления 7 на 3 равно: 2.33\n",
      "Остаток от деления 7 на 3 равен: 1\n",
      "Десятичный логарифм числа 7 равен 0.84510\n",
      "Результат возведения числа 7 в степень 3 равен: 343\n"
     ]
    }
   ],
   "source": [
    "import math\n",
    "\n",
    "a = int(input(\"Введите первое число: \"))\n",
    "b = int(input(\"Введите второе число: \"))\n",
    "print(f\"Сумма чисел {a} и {b} равна: {a + b}\")\n",
    "print(f\"Разница чисел {a} и {b} равна: {a - b}\")\n",
    "print(f\"Произведение чисел {a} и {b} равно: {a * b}\")\n",
    "print(f\"Частное от деления {a} на {b} равно: {a / b:.2f}\")\n",
    "print(f\"Остаток от деления {a} на {b} равен: {a % b}\")\n",
    "print(f\"Десятичный логарифм числа {a} равен {math.log10(a):.5f}\")\n",
    "print(f\"Результат возведения числа {a} в степень {b} равен: {a ** b}\")\n"
   ]
  },
  {
   "cell_type": "markdown",
   "id": "f2324b45",
   "metadata": {},
   "source": [
    "### Упражнение 49. Китайский гороскоп"
   ]
  },
  {
   "cell_type": "code",
   "execution_count": 4,
   "id": "e5ba64ac",
   "metadata": {},
   "outputs": [
    {
     "name": "stdout",
     "output_type": "stream",
     "text": [
      "Введите год: 2024\n",
      "Год Дракона.\n"
     ]
    }
   ],
   "source": [
    "year = int(input(\"Введите год: \"))\n",
    "num = year % 12\n",
    "\n",
    "# Здесь, вместо if, я использовал конструкцию match-case.\n",
    "match num:\n",
    "    case 8:\n",
    "        print(\"Год Дракона.\")\n",
    "    case 9:\n",
    "        print(\"Год Змеи.\")\n",
    "    case 10:\n",
    "        print(\"Год Лошади.\")\n",
    "    case 11:\n",
    "        print(\"Год Козы.\")\n",
    "    case 0:\n",
    "        print(\"Год Обезьяны.\")\n",
    "    case 1:\n",
    "        print(\"Год Петуха.\")\n",
    "    case 2:\n",
    "        print(\"Год Собаки.\")\n",
    "    case 3:\n",
    "        print(\"Год Свиньи.\")\n",
    "    case 4:\n",
    "        print(\"Год Крысы.\")\n",
    "    case 5:\n",
    "        print(\"Год Быка.\")\n",
    "    case 6:\n",
    "        print(\"Год Тигра.\")\n",
    "    case 7:\n",
    "        print(\"Год Кролика.\")\n"
   ]
  },
  {
   "cell_type": "code",
   "execution_count": 6,
   "id": "68aa000e",
   "metadata": {},
   "outputs": [
    {
     "name": "stdout",
     "output_type": "stream",
     "text": [
      "Введите год н.э.: 2023\n",
      "Год Кролика\n"
     ]
    }
   ],
   "source": [
    "# Здесь такойже подход, только использовал кортеж. \n",
    "animal = [\"Обезьяны\", \"Петуха\", \"Собаки\", \"Свиньи\", \"Крысы\", \"Быка\", \"Тигра\", \"Кролика\", \"Дракона\", \"Змеи\", \"Лошади\", \"Козы\"]\n",
    "year = int(input(\"Введите год н.э.: \"))\n",
    "num = year % 12\n",
    "print(\"Год\", animal[num])"
   ]
  },
  {
   "cell_type": "markdown",
   "id": "1e79a573",
   "metadata": {},
   "source": [
    "## Из курса Skillfactory Веб-разработчик на Python."
   ]
  },
  {
   "cell_type": "markdown",
   "id": "c6f2bcfc",
   "metadata": {},
   "source": [
    "### Задание 3.4.3"
   ]
  },
  {
   "cell_type": "markdown",
   "id": "27993b1f",
   "metadata": {},
   "source": [
    "Условие задачи:\n",
    "\n",
    "Написать программу, которая в зависимости от характера ветра выдает сообщение о его скорости:\n",
    "- от 1 до 4 м/с — слабый (1);\n",
    "- от 5-10 м/c — умеренный (2);\n",
    "- от 11-18 м/c — сильный (3);\n",
    "- больше 19 м/c — ураганный (4)."
   ]
  },
  {
   "cell_type": "code",
   "execution_count": 4,
   "id": "5036eb8f",
   "metadata": {},
   "outputs": [
    {
     "name": "stdout",
     "output_type": "stream",
     "text": [
      "Ведите скорость ветра в м/c: 15\n",
      "Сильный ветер.\n"
     ]
    }
   ],
   "source": [
    "wind_speed = int(input(\"Ведите скорость ветра в м/c: \"))\n",
    "if wind_speed in range(1, 5):\n",
    "    print(\"Слабый ветер.\")\n",
    "elif wind_speed in range(5, 11):\n",
    "    print(\"Умеренный ветер.\")\n",
    "elif wind_speed in range(11, 19):\n",
    "    print(\"Сильный ветер.\")\n",
    "elif wind_speed > 19:\n",
    "    print(\"Ураганный ветер!\")\n"
   ]
  },
  {
   "cell_type": "markdown",
   "id": "ce300df2",
   "metadata": {},
   "source": [
    "И тут я понял, что условие задачи другое. Правда непонятно из условия должен ли пользователь что-вводить?🤔\n",
    "\n",
    "Ну ладно, попробуем:"
   ]
  },
  {
   "cell_type": "code",
   "execution_count": 7,
   "id": "71c6f263",
   "metadata": {},
   "outputs": [
    {
     "name": "stdout",
     "output_type": "stream",
     "text": [
      "Введите цифру соответствующую характеру ветра\n",
      "\n",
      "[1] Слабый ветер.\n",
      "[2] Умеренный ветер.\n",
      "[3] Сильный ветер.\n",
      "[4] Ураганный ветер.\n",
      "\n",
      "Введите цифру: 4\n",
      "Скорость ветра больше 19 м/с.\n"
     ]
    }
   ],
   "source": [
    "print(\"Введите цифру соответствующую характеру ветра\")\n",
    "print()\n",
    "print(\"[1] Слабый ветер.\")\n",
    "print(\"[2] Умеренный ветер.\")\n",
    "print(\"[3] Сильный ветер.\")\n",
    "print(\"[4] Ураганный ветер.\")\n",
    "print()\n",
    "answer = input(\"Введите цифру: \")\n",
    "# Использую конструкцию match-case вместо if, так удобнее.\n",
    "match answer:\n",
    "    case \"1\":\n",
    "        print(\"Скорость ветра от 1 до 4 м/с.\")\n",
    "    case \"2\":\n",
    "        print(\"Скорость ветра от 5 до 10 м/с.\")\n",
    "    case \"3\":\n",
    "        print(\"Скорость ветра от 11 до 18 м/с.\")\n",
    "    case \"4\":\n",
    "        print(\"Скорость ветра больше 19 м/с.\")\n",
    "    case _:\n",
    "        print(\"Неккоректный ввод!\")\n",
    "\n",
    "    \n",
    "        "
   ]
  },
  {
   "cell_type": "markdown",
   "id": "9ab79111",
   "metadata": {},
   "source": [
    "А вот так выглядит решение этой задачи на самой платформе:"
   ]
  },
  {
   "cell_type": "markdown",
   "id": "21316c0e",
   "metadata": {},
   "source": [
    "```Python\n",
    "def get_wind_class(speed): #объявление функции\n",
    "    if 1 <= speed <= 4: #только аргумент\n",
    "        return \"weak [1]\"\n",
    "    elif 5 <= speed <= 10:\n",
    "        return \"moderate [2]\"\n",
    "    elif 11 <= speed <= 18:\n",
    "        return\"strong [3]\"\n",
    "    elif speed >= 19:\n",
    "        return \"hurricane [4]\"\n",
    "print(get_wind_class(3)) #мы просим программу напечатать то, что в скобках\n",
    "```"
   ]
  },
  {
   "cell_type": "markdown",
   "id": "b2ff092b",
   "metadata": {},
   "source": [
    "Неожиданно!😲 То есть тут они использовали функцию, хотя функции в модуле, где размещена эта задача, еще не изучались🙄 "
   ]
  },
  {
   "cell_type": "markdown",
   "id": "89ac5081",
   "metadata": {},
   "source": [
    "### Задание 3.4.4"
   ]
  },
  {
   "cell_type": "markdown",
   "id": "63d71f4c",
   "metadata": {},
   "source": [
    "Напишите программу, которая сначала запрашивает логин пользователя, проверяет, существует он или нет, а потом с помощью вложенного условия проверяет пароль этого пользователя."
   ]
  },
  {
   "cell_type": "code",
   "execution_count": null,
   "id": "ffa6f54e",
   "metadata": {},
   "outputs": [],
   "source": [
    "login_list = [\n",
    "   'root',\n",
    "   'username1'\n",
    "   ]\n",
    "\n",
    "password_list = {\n",
    "   'root': '1q2w3e4r',\n",
    "   'username1': 'qwerty123'\n",
    "}\n",
    "\n",
    "username = input('Введите логин:\\n')\n",
    "\n",
    "# здесь допишите условие проверки логина и пароля"
   ]
  }
 ],
 "metadata": {
  "kernelspec": {
   "display_name": "Python 3 (ipykernel)",
   "language": "python",
   "name": "python3"
  },
  "language_info": {
   "codemirror_mode": {
    "name": "ipython",
    "version": 3
   },
   "file_extension": ".py",
   "mimetype": "text/x-python",
   "name": "python",
   "nbconvert_exporter": "python",
   "pygments_lexer": "ipython3",
   "version": "3.11.2"
  }
 },
 "nbformat": 4,
 "nbformat_minor": 5
}
