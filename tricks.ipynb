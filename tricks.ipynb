{
 "cells": [
  {
   "cell_type": "markdown",
   "id": "6d115049",
   "metadata": {},
   "source": [
    "# Tricks"
   ]
  },
  {
   "cell_type": "markdown",
   "id": "596b6585",
   "metadata": {},
   "source": [
    "Тут балуюсь с разными фишками, одностроочниками и прочее."
   ]
  },
  {
   "cell_type": "code",
   "execution_count": 1,
   "id": "c505240b",
   "metadata": {},
   "outputs": [],
   "source": [
    "import antigravity"
   ]
  },
  {
   "cell_type": "code",
   "execution_count": 2,
   "id": "877888fe",
   "metadata": {},
   "outputs": [
    {
     "name": "stdout",
     "output_type": "stream",
     "text": [
      "[1, 2, 4, 5, 7, 8, 9, 15, 27, 42, 69, 89]\n"
     ]
    }
   ],
   "source": [
    "# Реализация алгоритма сортировки пузырьком\n",
    "\n",
    "array = [89, 2, 15, 42, 1, 4, 27, 69, 8, 9, 7, 5 ]\n",
    "\n",
    "for i in range(len(array)):\n",
    "    for j in range(len(array) - i - 1 ):\n",
    "        if array[j] > array[j + 1]:\n",
    "            array[j], array[j + 1] = array[j + 1], array[j]\n",
    "            \n",
    "print(array)"
   ]
  },
  {
   "cell_type": "code",
   "execution_count": 1,
   "id": "4227c8d3",
   "metadata": {},
   "outputs": [
    {
     "name": "stdout",
     "output_type": "stream",
     "text": [
      "hsikarkatsuM\n"
     ]
    }
   ],
   "source": [
    "def reverseString(string):\n",
    "    return string[::-1]\n",
    "\n",
    "print(reverseString(\"Mustakrakish\"))"
   ]
  },
  {
   "cell_type": "code",
   "execution_count": 7,
   "id": "16e658d9",
   "metadata": {},
   "outputs": [
    {
     "name": "stdout",
     "output_type": "stream",
     "text": [
      "The string is not palindrom!!!\n",
      "The string is palindrom!\n"
     ]
    }
   ],
   "source": [
    "def isPalindrom(string):\n",
    "    if string.lower() == string[::-1].lower():\n",
    "        return \"The string is palindrom!\"\n",
    "    return \"The string is not palindrom!!!\"\n",
    "\n",
    "print(isPalindrom(\"Mustakrakish\"))\n",
    "print(isPalindrom(\"Boob\"))"
   ]
  },
  {
   "cell_type": "code",
   "execution_count": null,
   "id": "851088d9",
   "metadata": {},
   "outputs": [],
   "source": []
  },
  {
   "cell_type": "code",
   "execution_count": null,
   "id": "9fa875be",
   "metadata": {},
   "outputs": [],
   "source": []
  },
  {
   "cell_type": "code",
   "execution_count": null,
   "id": "207b5173",
   "metadata": {},
   "outputs": [],
   "source": []
  },
  {
   "cell_type": "code",
   "execution_count": null,
   "id": "f6e208ce",
   "metadata": {},
   "outputs": [],
   "source": []
  },
  {
   "cell_type": "code",
   "execution_count": null,
   "id": "9421b907",
   "metadata": {},
   "outputs": [],
   "source": []
  },
  {
   "cell_type": "code",
   "execution_count": null,
   "id": "6c06d8bf",
   "metadata": {},
   "outputs": [],
   "source": []
  },
  {
   "cell_type": "code",
   "execution_count": null,
   "id": "71e5afc2",
   "metadata": {},
   "outputs": [],
   "source": []
  },
  {
   "cell_type": "code",
   "execution_count": null,
   "id": "bf7cc225",
   "metadata": {},
   "outputs": [],
   "source": []
  },
  {
   "cell_type": "code",
   "execution_count": null,
   "id": "ad388f27",
   "metadata": {},
   "outputs": [],
   "source": []
  },
  {
   "cell_type": "code",
   "execution_count": null,
   "id": "33e8253b",
   "metadata": {},
   "outputs": [],
   "source": []
  },
  {
   "cell_type": "code",
   "execution_count": null,
   "id": "f2e16f50",
   "metadata": {},
   "outputs": [],
   "source": []
  },
  {
   "cell_type": "code",
   "execution_count": null,
   "id": "ca3548a6",
   "metadata": {},
   "outputs": [],
   "source": []
  }
 ],
 "metadata": {
  "kernelspec": {
   "display_name": "Python 3 (ipykernel)",
   "language": "python",
   "name": "python3"
  },
  "language_info": {
   "codemirror_mode": {
    "name": "ipython",
    "version": 3
   },
   "file_extension": ".py",
   "mimetype": "text/x-python",
   "name": "python",
   "nbconvert_exporter": "python",
   "pygments_lexer": "ipython3",
   "version": "3.11.2"
  }
 },
 "nbformat": 4,
 "nbformat_minor": 5
}
